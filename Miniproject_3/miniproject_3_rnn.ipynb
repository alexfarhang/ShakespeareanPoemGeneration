{
 "cells": [
  {
   "cell_type": "code",
   "execution_count": 159,
   "metadata": {},
   "outputs": [],
   "source": [
    "from keras.models import Sequential\n",
    "from keras.layers import Dense\n",
    "from keras.layers import LSTM\n",
    "import os\n",
    "import numpy as np\n",
    "from keras.callbacks import LambdaCallback\n",
    "import sys\n",
    "import random\n",
    "import string\n",
    "import re"
   ]
  },
  {
   "cell_type": "code",
   "execution_count": 162,
   "metadata": {},
   "outputs": [],
   "source": [
    "# read in text, lower case\n",
    "text_full = open(os.path.join(os.getcwd(), 'data/shakespeare.txt')).read().lower()"
   ]
  },
  {
   "cell_type": "code",
   "execution_count": 163,
   "metadata": {},
   "outputs": [],
   "source": [
    "# remove numbers\n",
    "text_no_num = ''.join([i for i in text_full if not i.isdigit()])\n",
    "# remove new lines\n",
    "text_no_nline = text_no_num.replace(\"\\n\", '')"
   ]
  },
  {
   "cell_type": "code",
   "execution_count": 165,
   "metadata": {},
   "outputs": [],
   "source": [
    "# remove punctuation and tabs\n",
    "\n",
    "punctuations = '''!()-[]{};:'\"\\,<>./?@#$%^&*_~'''\n",
    "no_punct = \"\"\n",
    "for char in text_no_nline:\n",
    "    if char not in punctuations:\n",
    "        no_punct = no_punct + char\n",
    "\n",
    "text = re.sub(' +', ' ', no_punct)"
   ]
  },
  {
   "cell_type": "code",
   "execution_count": 166,
   "metadata": {},
   "outputs": [
    {
     "name": "stdout",
     "output_type": "stream",
     "text": [
      "total chars: 27\n"
     ]
    }
   ],
   "source": [
    "# from https://keras.io/examples/lstm_text_generation/\n",
    "\n",
    "chars = sorted(list(set(text)))\n",
    "print('total chars:', len(chars))\n",
    "char_indices = dict((c, i) for i, c in enumerate(chars))\n",
    "indices_char = dict((i, c) for i, c in enumerate(chars))"
   ]
  },
  {
   "cell_type": "code",
   "execution_count": 167,
   "metadata": {},
   "outputs": [
    {
     "data": {
      "text/plain": [
       "[' ',\n",
       " 'a',\n",
       " 'b',\n",
       " 'c',\n",
       " 'd',\n",
       " 'e',\n",
       " 'f',\n",
       " 'g',\n",
       " 'h',\n",
       " 'i',\n",
       " 'j',\n",
       " 'k',\n",
       " 'l',\n",
       " 'm',\n",
       " 'n',\n",
       " 'o',\n",
       " 'p',\n",
       " 'q',\n",
       " 'r',\n",
       " 's',\n",
       " 't',\n",
       " 'u',\n",
       " 'v',\n",
       " 'w',\n",
       " 'x',\n",
       " 'y',\n",
       " 'z']"
      ]
     },
     "execution_count": 167,
     "metadata": {},
     "output_type": "execute_result"
    }
   ],
   "source": [
    "chars"
   ]
  },
  {
   "cell_type": "code",
   "execution_count": 168,
   "metadata": {},
   "outputs": [
    {
     "name": "stdout",
     "output_type": "stream",
     "text": [
      "nb sequences: 29602\n"
     ]
    }
   ],
   "source": [
    "# from https://keras.io/examples/lstm_text_generation/\n",
    "# cut the text in semi-redundant sequences of maxlen characters\n",
    "\n",
    "maxlen = 40\n",
    "step = 3\n",
    "sentences = []\n",
    "next_chars = []\n",
    "for i in range(0, len(text) - maxlen, step):\n",
    "    sentences.append(text[i: i + maxlen])\n",
    "    next_chars.append(text[i + maxlen])\n",
    "print('nb sequences:', len(sentences))"
   ]
  },
  {
   "cell_type": "code",
   "execution_count": 169,
   "metadata": {},
   "outputs": [],
   "source": [
    "# from https://keras.io/examples/lstm_text_generation/\n",
    "\n",
    "x = np.zeros((len(sentences), maxlen, len(chars)), dtype=np.bool)\n",
    "y = np.zeros((len(sentences), len(chars)), dtype=np.bool)\n",
    "for i, sentence in enumerate(sentences):\n",
    "    for t, char in enumerate(sentence):\n",
    "        x[i, t, char_indices[char]] = 1\n",
    "    y[i, char_indices[next_chars[i]]] = 1"
   ]
  },
  {
   "cell_type": "code",
   "execution_count": 84,
   "metadata": {},
   "outputs": [
    {
     "data": {
      "text/plain": [
       "(32545, 40, 61)"
      ]
     },
     "execution_count": 84,
     "metadata": {},
     "output_type": "execute_result"
    }
   ],
   "source": [
    "np.shape(x)"
   ]
  },
  {
   "cell_type": "code",
   "execution_count": 85,
   "metadata": {},
   "outputs": [
    {
     "data": {
      "text/plain": [
       "(32545, 61)"
      ]
     },
     "execution_count": 85,
     "metadata": {},
     "output_type": "execute_result"
    }
   ],
   "source": [
    "np.shape(y)"
   ]
  },
  {
   "cell_type": "code",
   "execution_count": 86,
   "metadata": {},
   "outputs": [
    {
     "data": {
      "text/plain": [
       "array([[False, False, False, ..., False, False, False],\n",
       "       [False, False, False, ..., False, False, False],\n",
       "       [False, False, False, ..., False, False, False],\n",
       "       ...,\n",
       "       [False, False, False, ..., False, False, False],\n",
       "       [False,  True, False, ..., False, False, False],\n",
       "       [False, False, False, ..., False, False, False]])"
      ]
     },
     "execution_count": 86,
     "metadata": {},
     "output_type": "execute_result"
    }
   ],
   "source": [
    "y"
   ]
  },
  {
   "cell_type": "code",
   "execution_count": 170,
   "metadata": {},
   "outputs": [
    {
     "name": "stdout",
     "output_type": "stream",
     "text": [
      "Model: \"sequential_6\"\n",
      "_________________________________________________________________\n",
      "Layer (type)                 Output Shape              Param #   \n",
      "=================================================================\n",
      "lstm_4 (LSTM)                (None, 125)               76500     \n",
      "_________________________________________________________________\n",
      "dense_4 (Dense)              (None, 27)                3402      \n",
      "=================================================================\n",
      "Total params: 79,902\n",
      "Trainable params: 79,902\n",
      "Non-trainable params: 0\n",
      "_________________________________________________________________\n",
      "None\n"
     ]
    }
   ],
   "source": [
    "# define model\n",
    "model = Sequential()\n",
    "model.add(LSTM(125, input_shape=(x.shape[1], x.shape[2])))\n",
    "model.add(Dense(len(chars), activation='softmax'))\n",
    "print(model.summary())"
   ]
  },
  {
   "cell_type": "code",
   "execution_count": 171,
   "metadata": {},
   "outputs": [],
   "source": [
    "# compile model\n",
    "model.compile(loss='categorical_crossentropy', optimizer='adam', metrics=['accuracy'])"
   ]
  },
  {
   "cell_type": "code",
   "execution_count": 172,
   "metadata": {},
   "outputs": [],
   "source": [
    "# temperature = 1.0"
   ]
  },
  {
   "cell_type": "code",
   "execution_count": 173,
   "metadata": {},
   "outputs": [],
   "source": [
    "# from https://keras.io/examples/lstm_text_generation/\n",
    "\n",
    "def sample(preds, temperature=1.0):\n",
    "    # helper function to sample an index from a probability array\n",
    "    preds = np.asarray(preds).astype('float64')\n",
    "    preds = np.log(preds) / temperature\n",
    "    exp_preds = np.exp(preds)\n",
    "    preds = exp_preds / np.sum(exp_preds)\n",
    "    probas = np.random.multinomial(1, preds, 1)\n",
    "    return np.argmax(probas)"
   ]
  },
  {
   "cell_type": "code",
   "execution_count": 298,
   "metadata": {},
   "outputs": [],
   "source": [
    "# from https://keras.io/examples/lstm_text_generation/\n",
    "\n",
    "def on_epoch_end(epoch, _):\n",
    "    # Function invoked at end of each epoch. Prints generated text.\n",
    "    \n",
    "    # print only 10th epoch\n",
    "    if epoch%100==0:\n",
    "        print()\n",
    "        print('----- Generating text after Epoch: %d' % epoch)\n",
    "\n",
    "        start_index = random.randint(0, len(text) - maxlen - 1)\n",
    "        for temperature in [0.25, 0.75, 1.5]:\n",
    "            print('----- temperature:', temperature)\n",
    "\n",
    "            generated = ''\n",
    "            sentence = text[start_index: start_index + maxlen]\n",
    "            generated += sentence\n",
    "            print('----- Generating with seed: \"' + sentence + '\"')\n",
    "            sys.stdout.write(generated)\n",
    "\n",
    "            for i in range(400):\n",
    "                x_pred = np.zeros((1, maxlen, len(chars)))\n",
    "                for t, char in enumerate(sentence):\n",
    "                    x_pred[0, t, char_indices[char]] = 1.\n",
    "\n",
    "                preds = model.predict(x_pred, verbose=0)[0]\n",
    "                next_index = sample(preds, temperature)\n",
    "                next_char = indices_char[next_index]\n",
    "\n",
    "                sentence = sentence[1:] + next_char\n",
    "\n",
    "                sys.stdout.write(next_char)\n",
    "                sys.stdout.flush()\n",
    "            print()\n",
    "    else: \n",
    "        pass\n",
    "\n",
    "print_callback = LambdaCallback(on_epoch_end=on_epoch_end)"
   ]
  },
  {
   "cell_type": "code",
   "execution_count": 194,
   "metadata": {},
   "outputs": [
    {
     "name": "stdout",
     "output_type": "stream",
     "text": [
      "Epoch 1/100\n",
      " - 27s - loss: 0.8847 - accuracy: 0.7301\n",
      "\n",
      "----- Generating text after Epoch: 0\n",
      "----- temperature: 0.25\n",
      "----- Generating with seed: \"son music to hear why hearst thou music \"\n",
      "son music to hear why hearst thou music and thee the world mouth re painted how a fomen forthing and so so thou the world i to keed for thy sunfeathert me dis caired thee beauty one womblong of my sweet were it not than my self a long have preasor of the fairt a a send the beauty on your self and thee thee belies summers with lost and contould me doth long hast where it not thou art i am not love and this paress by yet are gondless by t\n",
      "----- temperature: 0.75\n",
      "----- Generating with seed: \"son music to hear why hearst thou music \"\n",
      "son music to hear why hearst thou music comed be endand the forghts on the ramethou akn that mull for all meame doth londs crouch pottricet it st oll whor be endle butl you tremes wore thoughtshenger muli shall the self for this pleing math not to be st leave whose be night dils peril add at thy giedt corfind yet the world at sexplese yet to mine eyes that thou art for thee mone not part brom sill see the still thing and blacks pittare \n",
      "----- temperature: 1.5\n",
      "----- Generating with seed: \"son music to hear why hearst thou music \"\n",
      "son music to hear why hearst thou music dowers eyeth poot he paitured onwtrusting dile dodill you ble semare make as eyethenrpeeos mand othere fair fouthstrounge diefglith what to gpordand nair eys tonguetuin san and my sugains eyestore thay me sughto frop from homp nos sween ofn sarkly behavencpetivntyephtysuthout fortann with all my mreed in thinears now his sape it cadracyed a veaveoved of now are skill fimrestne eppaisemaved sanmest\n",
      "Epoch 2/100\n",
      " - 25s - loss: 0.8441 - accuracy: 0.7430\n",
      "Epoch 3/100\n",
      " - 25s - loss: 0.8185 - accuracy: 0.7534\n",
      "Epoch 4/100\n",
      " - 25s - loss: 0.7900 - accuracy: 0.7604\n",
      "Epoch 5/100\n",
      " - 25s - loss: 0.7631 - accuracy: 0.7684\n",
      "Epoch 6/100\n",
      " - 25s - loss: 0.7365 - accuracy: 0.7779\n",
      "Epoch 7/100\n",
      " - 25s - loss: 0.7105 - accuracy: 0.7872\n",
      "Epoch 8/100\n",
      " - 25s - loss: 0.6941 - accuracy: 0.7909\n",
      "Epoch 9/100\n",
      " - 25s - loss: 0.6682 - accuracy: 0.7982\n",
      "Epoch 10/100\n",
      " - 27s - loss: 0.6482 - accuracy: 0.8049\n",
      "Epoch 11/100\n",
      " - 25s - loss: 0.6317 - accuracy: 0.8084\n",
      "\n",
      "----- Generating text after Epoch: 10\n",
      "----- temperature: 0.25\n",
      "----- Generating with seed: \"eem so some glory in their birth some in\"\n",
      "eem so some glory in their birth some in every but speater and see such raseth ootraking away i have spripe stralges more her i cankst loves th some bright thou then when their shall which phoudd of shade part i to be of meaut thou art it see me dott me a faired and were forghthe beauty mistins ere yethe mude chould not the sine so more and their shairss me beautys not thy loves and where it no this that with thee beautys for where it n\n",
      "----- temperature: 0.75\n",
      "----- Generating with seed: \"eem so some glory in their birth some in\"\n",
      "eem so some glory in their birth some in every barge brow pares of me was deeyed with mastery being criveand your for fare in the furleweth longs and their should deefows waile comitation ot some that with derewrant with her loveang of thy fair and then not blow shoulds ablir well in then your see for as will be ard but dith fors for agained think eyes fore from ablind ends quion in do no there arthe butl giod and their thee muentied so\n",
      "----- temperature: 1.5\n",
      "----- Generating with seed: \"eem so some glory in their birth some in\"\n",
      "eem so some glory in their birth some in love t me but swentyes boliss his gruenobhwazer nowarch of nithin lounts upesines glosw is blood unfover tombred againge that i quise thou art boob shild dore doth his ade flom are mento matile that thou pomin tas thruebhedd me san sembed shall dasmed endoes evew love owt wridn ar a beauty of thoughts umpanqsowife oth self arpleach of athen ahgueesnue as eyes versefcrowthis ploadss dithine berisu\n",
      "Epoch 12/100\n",
      " - 28s - loss: 0.6160 - accuracy: 0.8134\n",
      "Epoch 13/100\n",
      " - 35s - loss: 0.6183 - accuracy: 0.8114\n",
      "Epoch 14/100\n",
      " - 29s - loss: 0.5855 - accuracy: 0.8217\n",
      "Epoch 15/100\n",
      " - 27s - loss: 0.5617 - accuracy: 0.8319\n",
      "Epoch 16/100\n",
      " - 38s - loss: 0.5999 - accuracy: 0.8138\n",
      "Epoch 17/100\n",
      " - 32s - loss: 0.5291 - accuracy: 0.8417\n",
      "Epoch 18/100\n",
      " - 31s - loss: 0.5304 - accuracy: 0.8397\n",
      "Epoch 19/100\n",
      " - 25s - loss: 0.5250 - accuracy: 0.8424\n",
      "Epoch 20/100\n",
      " - 25s - loss: 0.5168 - accuracy: 0.8416\n",
      "Epoch 21/100\n",
      " - 27s - loss: 0.5203 - accuracy: 0.8430\n",
      "\n",
      "----- Generating text after Epoch: 20\n",
      "----- temperature: 0.25\n",
      "----- Generating with seed: \" well which thou must leave ere long but\"\n",
      " well which thou must leave ere long but dildrace be cained mutthin thy blesst mully refombly forn havet no breaser with loty hate muss comen than gove in war all me groroty hath on thy sweet asmice with time ford forbeartif thee thee me doth lost histhauth my sungentardes that mine eye comboring his sweet meast wincroms shorn that painst aulthe bester laving agare what ame browst thy sweet remowncase doth master me truth frounse best i\n",
      "----- temperature: 0.75\n",
      "----- Generating with seed: \" well which thou must leave ere long but\"\n",
      " well which thou must leave ere long but showst loves me dooknwhen i radt be not brew thee beamion then my me my stwir thy mull still with my deeing your sonfand your full me deart for my stion that thou foob you dat riseto canna marbear with thee beauty with supprissiou alatt and refortund forth in heaven to most meant rome so dellestf comot with time for forbes berfugh did growso dights my staynothauth how is thineats and heavaths sha\n",
      "----- temperature: 1.5\n",
      "----- Generating with seed: \" well which thou must leave ere long but\"\n",
      " well which thou must leave ere long but distclestim be the bebutet deadthe veist not toustneye dissine lowe wonbriming didie chougace he alebliong fait now conean boten boon that his vurked notquention hist what hours ever when toobe on bentsa them boode hati in my eyest rudwstme since basts nor treesell lake that should dath molity lapk now treespentleswhen looks have leaknanch living hou which excrersel by my jreghine fraws proud as \n",
      "Epoch 22/100\n",
      " - 26s - loss: 0.4934 - accuracy: 0.8512\n",
      "Epoch 23/100\n",
      " - 25s - loss: 0.4920 - accuracy: 0.8515\n",
      "Epoch 24/100\n",
      " - 25s - loss: 0.4869 - accuracy: 0.8524\n",
      "Epoch 25/100\n",
      " - 25s - loss: 0.4702 - accuracy: 0.8574\n",
      "Epoch 26/100\n",
      " - 26s - loss: 0.4527 - accuracy: 0.8624\n",
      "Epoch 27/100\n",
      " - 25s - loss: 0.4448 - accuracy: 0.8653\n",
      "Epoch 28/100\n",
      " - 25s - loss: 0.4351 - accuracy: 0.8670\n",
      "Epoch 29/100\n",
      " - 26s - loss: 0.4440 - accuracy: 0.8639\n",
      "Epoch 30/100\n",
      " - 25s - loss: 0.4396 - accuracy: 0.8630\n",
      "Epoch 31/100\n",
      " - 25s - loss: 0.4296 - accuracy: 0.8705\n",
      "\n",
      "----- Generating text after Epoch: 30\n",
      "----- temperature: 0.25\n",
      "----- Generating with seed: \"waydeaths second self that seals up all \"\n",
      "waydeaths second self that seals up all more behemion is me dis came so born the lose poor dead not so all more yee to grestwere me i jownce that but farr to be a faired and strengt my beauty lives did my heartand plack and this chenks creasory when my sout fram felselfor cany in it selfous penil as i hatt his heavence make merso then my love what so then vingand dut i ant more are may then die the best as buring thy sunk when my sout f\n",
      "----- temperature: 0.75\n",
      "----- Generating with seed: \"waydeaths second self that seals up all \"\n",
      "waydeaths second self that seals up all me pryist as thou love and their shall whose be endencest wook not thou dost be doth provour do lov thee is not so murur ene formed to may eyes me brew there of my sade delive selfor can be muds to the by ended of not i am notrang aweals for my love as and ent becomebuting othing here or my his wearth long lacks which hell my rusten sommot i to file with uring of ruceand have plain and shord do wo\n",
      "----- temperature: 1.5\n",
      "----- Generating with seed: \"waydeaths second self that seals up all \"\n",
      "waydeaths second self that seals up all tomplading ownermoretyes huse show can leppaceand hourse the bestme whorccuees not love what houdd word dassa then hourss die is huspand murele bad my veate my charty is fuer yet mestormey blest or thy healt for my love haws i love flech proodant worsst cheat it as beht keol desefor will be fide is seep to reasomons ever leidur ing my merin for my stowet kengflewor can three and the bestwere not s\n",
      "Epoch 32/100\n",
      " - 25s - loss: 0.4209 - accuracy: 0.8708\n",
      "Epoch 33/100\n",
      " - 26s - loss: 0.4036 - accuracy: 0.8779\n",
      "Epoch 34/100\n",
      " - 25s - loss: 0.3969 - accuracy: 0.8801\n",
      "Epoch 35/100\n",
      " - 25s - loss: 0.3913 - accuracy: 0.8817\n",
      "Epoch 36/100\n",
      " - 24s - loss: 0.4017 - accuracy: 0.8750\n",
      "Epoch 37/100\n",
      " - 26s - loss: 0.3836 - accuracy: 0.8830\n",
      "Epoch 38/100\n",
      " - 26s - loss: 0.3873 - accuracy: 0.8802\n",
      "Epoch 39/100\n",
      " - 25s - loss: 0.3740 - accuracy: 0.8847\n",
      "Epoch 40/100\n",
      " - 25s - loss: 0.3771 - accuracy: 0.8836\n",
      "Epoch 41/100\n",
      " - 26s - loss: 0.3620 - accuracy: 0.8875\n",
      "\n",
      "----- Generating text after Epoch: 40\n",
      "----- temperature: 0.25\n",
      "----- Generating with seed: \"rom hence your memory death cannot takea\"\n",
      "rom hence your memory death cannot takea whouldst an how fair loves mate leads of spealthere faished hate mad and renor the himies that times comeringand do more life ronger swanthor afto shoot for where be aid of thy sweet as behtsi dit face or thee be is but distinstites redwer thoughtt he lees what wellthe best berour strang and in their shall whis veiken shall purint other is me state times keeplaviong of you in pering bringfre shan\n",
      "----- temperature: 0.75\n",
      "----- Generating with seed: \"rom hence your memory death cannot takea\"\n",
      "rom hence your memory death cannot takea whouldsnould bud thee appeetthe bessas it a was all me glorntis all til me do hoscoring to can that i in mind dildowc dueting peant heavens plain and you my self are not to his a does for and it seewory he poor love pitine yet retityt it self and seementt cometo in thy thyss men blest the stall but confess my frease that fore for my self brought to degeive not love thee that writs i love thee my \n",
      "----- temperature: 1.5\n",
      "----- Generating with seed: \"rom hence your memory death cannot takea\"\n",
      "rom hence your memory death cannot takeas in such asstere youth where ruth outtho dich gricht weast dealths caroly merion not i pequed not is lovewhich have be eatefartand fol ufond rimeaburroof and ithichs the cendlacc of mures thy beauths but his groastaid mo thoment of my blindss my bressed be nemen true i think muriol dice bressed in a moot no sad to can tile now aking and all mine are vingat of all mioved with forseand all it well \n",
      "Epoch 42/100\n",
      " - 25s - loss: 0.3803 - accuracy: 0.8795\n",
      "Epoch 43/100\n",
      " - 25s - loss: 0.3694 - accuracy: 0.8848\n",
      "Epoch 44/100\n",
      " - 26s - loss: 0.3421 - accuracy: 0.8969\n",
      "Epoch 45/100\n",
      " - 26s - loss: 0.3461 - accuracy: 0.8938\n",
      "Epoch 46/100\n",
      " - 26s - loss: 0.3462 - accuracy: 0.8943\n",
      "Epoch 47/100\n",
      " - 26s - loss: 0.3610 - accuracy: 0.8857\n",
      "Epoch 48/100\n",
      " - 27s - loss: 0.3434 - accuracy: 0.8933\n",
      "Epoch 49/100\n",
      " - 25s - loss: 0.3431 - accuracy: 0.8928\n",
      "Epoch 50/100\n",
      " - 26s - loss: 0.3195 - accuracy: 0.9046\n",
      "Epoch 51/100\n",
      " - 26s - loss: 0.3290 - accuracy: 0.8984\n",
      "\n",
      "----- Generating text after Epoch: 50\n",
      "----- temperature: 0.25\n",
      "----- Generating with seed: \"ed where all thy beauty lieswhere all th\"\n",
      "ed where all thy beauty lieswhere all the gentle not wescome thou uncemsed fair and thing illytard and ith tomisaby it his gligtand show i surceed how him louds of spealth regeit be eached fair fir thee is truehto or all of thy wellarstand plays in my pride may seed thee all thee boby nateretwho lovethe and delich dith uringing thee to be and thee then have palencedof heaveshay a sum lead and there from thee world i wrentt change it str\n",
      "----- temperature: 0.75\n",
      "----- Generating with seed: \"ed where all thy beauty lieswhere all th\"\n",
      "ed where all thy beauty lieswhere all the fearthe regeive where exbleasedowed to grow of him will soon thou art mormeating the elest chost heavens gare in fout for fleswere my by eddrippairemmen that hape may then doth lifion ach my breast whereoven stayluglized me when thy purrong but themefore have hearts not gless wheth bost put addiledo thee in thy beasst with thou should be exdeltelcemion and thes toob il feir trustand geatly giefo\n",
      "----- temperature: 1.5\n",
      "----- Generating with seed: \"ed where all thy beauty lieswhere all th\"\n",
      "ed where all thy beauty lieswhere all that kelf and i hath hil it surfees by of oredne receion of leasor can this pepprold ow me countend this shenks weet not the back shave both when i pozed oh wrenks mole doon noth love that thou shepe caunle hatero sweet sell what pood this dear thoungs appendel quese whereverseed exceetwere veiple remaymed no allstare parrrain liewhry frou haghtshill pleye bornwhon sell mose giest i not sin so murnl\n",
      "Epoch 52/100\n",
      " - 26s - loss: 0.3400 - accuracy: 0.8942\n",
      "Epoch 53/100\n",
      " - 25s - loss: 0.3241 - accuracy: 0.8991\n",
      "Epoch 54/100\n",
      " - 26s - loss: 0.3242 - accuracy: 0.8990\n",
      "Epoch 55/100\n",
      " - 26s - loss: 0.3245 - accuracy: 0.8985\n",
      "Epoch 56/100\n",
      " - 26s - loss: 0.3105 - accuracy: 0.9044\n",
      "Epoch 57/100\n",
      " - 25s - loss: 0.3163 - accuracy: 0.9010\n",
      "Epoch 58/100\n",
      " - 24s - loss: 0.2976 - accuracy: 0.9088\n",
      "Epoch 59/100\n",
      " - 24s - loss: 0.3216 - accuracy: 0.8975\n",
      "Epoch 60/100\n",
      " - 24s - loss: 0.3114 - accuracy: 0.9029\n",
      "Epoch 61/100\n",
      " - 24s - loss: 0.2902 - accuracy: 0.9123\n",
      "\n",
      "----- Generating text after Epoch: 60\n",
      "----- temperature: 0.25\n",
      "----- Generating with seed: \"ost hold times fickle glass his fickle h\"\n",
      "ost hold times fickle glass his fickle him with looks or a word doth lies i thinh my unyon with the dest he versewhy lovely gaintt tit tie seek for where it have my still fall with not so so morecler it is ment my fair and then rethough so all will despigetithand my mush criche lears but descored in the combe of erefor creasure of the rame so love thee being hencere may the world forthen goods steplest the marin forth now pairebut from \n",
      "----- temperature: 0.75\n",
      "----- Generating with seed: \"ost hold times fickle glass his fickle h\"\n",
      "ost hold times fickle glass his fickle high die should no queed with most all me me a proodess and refongt not to thine and they beauty ghadows with headewho ofe toramet mo yee youns bright which good nothing no lees the stainhto arn they will should dis it distich the time for are remems other fair to recaigetin sweetles fair tile givet do no so wert doth good is courtyd keedo maty newele to crustay till excemest if thy beauties earthe\n",
      "----- temperature: 1.5\n",
      "----- Generating with seed: \"ost hold times fickle glass his fickle h\"\n",
      "ost hold times fickle glass his fickle hightmith till eyeless in tleese culy time me stans fair kear ried not for thy bryow whome loves ho love in other tay o crowsuptampest their part i love thee well keefflledfor cacequnjiokinol do deeppet coorditg for thy lose ne merse to my jame thou fie th sows of this i could may aiss yee thy by awmine the virest no thine ill the sell which whose should nowqueds more he deeing feareso all the gtor\n",
      "Epoch 62/100\n",
      " - 27s - loss: 0.3062 - accuracy: 0.9034\n",
      "Epoch 63/100\n",
      " - 27s - loss: 0.2936 - accuracy: 0.9081\n",
      "Epoch 64/100\n",
      " - 26s - loss: 0.3096 - accuracy: 0.9021\n",
      "Epoch 65/100\n",
      " - 25s - loss: 0.3037 - accuracy: 0.9040\n",
      "Epoch 66/100\n",
      " - 24s - loss: 0.2775 - accuracy: 0.9141\n",
      "Epoch 67/100\n",
      " - 24s - loss: 0.2831 - accuracy: 0.9115\n",
      "Epoch 68/100\n",
      " - 24s - loss: 0.3309 - accuracy: 0.8913\n",
      "Epoch 69/100\n",
      " - 24s - loss: 0.2802 - accuracy: 0.9130\n",
      "Epoch 70/100\n",
      " - 24s - loss: 0.2707 - accuracy: 0.9160\n",
      "Epoch 71/100\n",
      " - 24s - loss: 0.2750 - accuracy: 0.9126\n",
      "\n",
      "----- Generating text after Epoch: 70\n",
      "----- temperature: 0.25\n",
      "----- Generating with seed: \"the rose looks fair but fairer we it dee\"\n",
      "the rose looks fair but fairer we it deepoppitieg to sact and not to the bester wath distand art to the world a tay then vings more thou well yet i so should not pood her for ame than unos and the some what in the fairst coothing art ademing ough affaophand die my dights inwentils beque is all theieth chilt and ithon wentress deep correation nottly gieds not i wall me cly owcencautle growso cann thy sweet reveaking wrack and the fairst \n",
      "----- temperature: 0.75\n",
      "----- Generating with seed: \"the rose looks fair but fairer we it dee\"\n",
      "the rose looks fair but fairer we it deepoppist as the fairtain in my hearthe cartand in thy beautys but phistillone were forbut thou fouthst you sith onther and for words eye where it not givethe shall puril parts of my edainmentinglating fall thou waine eyes been forr that manno lachces kidwhen chentle gunt your side sinfears dost deadons such as thine and beautys doth listilg time as his ale my self and illy from greas to oth remases\n",
      "----- temperature: 1.5\n",
      "----- Generating with seed: \"the rose looks fair but fairer we it dee\"\n",
      "the rose looks fair but fairer we it deewtrenti the bresst thy sweet respayere wan amins eye whore behildtit pare sworntwhen is best as my fiedtand downd oopuns ate mut vorst the upproun blessine of facrous of mire eyes leed from theee flest it sccring aghtand as jongless bul true and in thingiess adw opwained kindpastin lack arn retove counded faur ser my love thou uptappartule groewthe sen but distins yet thou now culefor in he whom l\n",
      "Epoch 72/100\n",
      " - 25s - loss: 0.2859 - accuracy: 0.9095\n",
      "Epoch 73/100\n",
      " - 24s - loss: 0.2641 - accuracy: 0.9181\n",
      "Epoch 74/100\n",
      " - 24s - loss: 0.2748 - accuracy: 0.9144\n",
      "Epoch 75/100\n",
      " - 24s - loss: 0.2799 - accuracy: 0.9117\n",
      "Epoch 76/100\n",
      " - 24s - loss: 0.2675 - accuracy: 0.9174\n",
      "Epoch 77/100\n",
      " - 24s - loss: 0.2693 - accuracy: 0.9143\n",
      "Epoch 78/100\n",
      " - 24s - loss: 0.3279 - accuracy: 0.8929\n",
      "Epoch 79/100\n",
      " - 24s - loss: 0.2432 - accuracy: 0.9241\n",
      "Epoch 80/100\n",
      " - 24s - loss: 0.2526 - accuracy: 0.9207\n",
      "Epoch 81/100\n",
      " - 24s - loss: 0.3219 - accuracy: 0.8947\n",
      "\n",
      "----- Generating text after Epoch: 80\n",
      "----- temperature: 0.25\n",
      "----- Generating with seed: \" thou away the very birds are mute or if\"\n",
      " thou away the very birds are mute or if thy heart the world me doth distill doth phoud tell reford ai as fie the sear fiest the pentle where it no when thou dost right of sond colded i th impret and i sme thee die the marceo if the world eye hath proodest is thy times retormeand thee but well despire not suns treeghom mind owwers have doonen to blaceio shawht the hert i love thus i rave tenongting thee when thou shall be endeccayout do\n",
      "----- temperature: 0.75\n",
      "----- Generating with seed: \" thou away the very birds are mute or if\"\n",
      " thou away the very birds are mute or if thy heart to ang my love you do as the self for where it not grow well dreavers not to self true my styen thinks it is thy tonguet exter ase the forsewhy sow oncenttith yee the wrom thou art vainflespeist to thy vers with my sightand in the pendro s my be oncemos dighits fort you wile drowstere to nimed worls to thy seep true do wons do horewhate doth mine eye as shall as to yee my works and cons\n",
      "----- temperature: 1.5\n",
      "----- Generating with seed: \" thou away the very birds are mute or if\"\n",
      " thou away the very birds are mute or if thy hearts ant torgh med were more in the blestwere it i linty bece behave it a may ghend duth most sigatot when thee befond doth notger shall the bight with hes leed to strane in proodsince this his didgrepfirefiebut with yet wist provethor my numbus assownnows die courd sweetnor san my self a listedswidwhot supuert becemicution ow your aution and flessing to shear not ir the paint of deadminc a\n",
      "Epoch 82/100\n",
      " - 24s - loss: 0.2394 - accuracy: 0.9282\n",
      "Epoch 83/100\n",
      " - 24s - loss: 0.2426 - accuracy: 0.9251\n",
      "Epoch 84/100\n",
      " - 25s - loss: 0.2818 - accuracy: 0.9077\n",
      "Epoch 85/100\n",
      " - 25s - loss: 0.2990 - accuracy: 0.9017\n",
      "Epoch 86/100\n",
      " - 24s - loss: 0.2186 - accuracy: 0.9332\n",
      "Epoch 87/100\n",
      " - 24s - loss: 0.2387 - accuracy: 0.9255\n",
      "Epoch 88/100\n",
      " - 25s - loss: 0.2588 - accuracy: 0.9191\n",
      "Epoch 89/100\n",
      " - 24s - loss: 0.2506 - accuracy: 0.9198\n",
      "Epoch 90/100\n",
      " - 24s - loss: 0.2440 - accuracy: 0.9240\n",
      "Epoch 91/100\n",
      " - 24s - loss: 0.2629 - accuracy: 0.9166\n",
      "\n",
      "----- Generating text after Epoch: 90\n",
      "----- temperature: 0.25\n",
      "----- Generating with seed: \"re vanishing or vanished out of sightste\"\n",
      "re vanishing or vanished out of sightsteal he aith coneting ating and inventaich thrife when st all givet dethinethe bresst thy sungeating palent with loves mate or alt against ti hes my aly times by that when they sower wearthor const to glongand do i vond thee your be and this even shadend truthert me dis as thy soul keepowfore the passt the grue not please commosed with formand of staythe eye fors had pride are reapor canne this ince\n",
      "----- temperature: 0.75\n",
      "----- Generating with seed: \"re vanishing or vanished out of sightste\"\n",
      "re vanishing or vanished out of sightsteal there confued diddon in the groun and thing illy my frow hear ride murd for my self my friend theeewhen i having and thy sight to will is thou marth can thy sweet recoves not sindle can thy states tildge despeing most when stralse to be despaired in the painted budwer if thy o clied dights inleoke thou bate orme thrif in my beauties being from meast in the ploud and thin pendslestithen the fair\n",
      "----- temperature: 1.5\n",
      "----- Generating with seed: \"re vanishing or vanished out of sightste\"\n",
      "re vanishing or vanished out of sightsteps tat weess you rused as thin in fort eyes faireto not gail thou bat uproves time besumed cureautyous anowas skely not and veron chown the marges fremphit for unjormen diderich downdy tond exce lest as then beauty whose yet in the thou love if have sweet fare i ant if they night i in their facewhat lysto proudteld cuile notk not inveaceoud staypor threefore fot forbut thinks in lave the faires to\n",
      "Epoch 92/100\n",
      " - 24s - loss: 0.2302 - accuracy: 0.9287\n",
      "Epoch 93/100\n",
      " - 24s - loss: 0.2770 - accuracy: 0.9085\n",
      "Epoch 94/100\n",
      " - 24s - loss: 0.2811 - accuracy: 0.9087\n",
      "Epoch 95/100\n",
      " - 24s - loss: 0.1974 - accuracy: 0.9399\n",
      "Epoch 96/100\n",
      " - 24s - loss: 0.2278 - accuracy: 0.9295\n",
      "Epoch 97/100\n",
      " - 24s - loss: 0.2555 - accuracy: 0.9177\n",
      "Epoch 98/100\n",
      " - 24s - loss: 0.2513 - accuracy: 0.9191\n",
      "Epoch 99/100\n",
      " - 24s - loss: 0.2410 - accuracy: 0.9229\n",
      "Epoch 100/100\n",
      " - 24s - loss: 0.1951 - accuracy: 0.9419\n"
     ]
    },
    {
     "data": {
      "text/plain": [
       "<keras.callbacks.callbacks.History at 0x641058f50>"
      ]
     },
     "execution_count": 194,
     "metadata": {},
     "output_type": "execute_result"
    }
   ],
   "source": [
    "# fit model\n",
    "model.fit(x, y, batch_size=32, epochs=100, verbose=2, callbacks=[print_callback])"
   ]
  },
  {
   "cell_type": "code",
   "execution_count": null,
   "metadata": {},
   "outputs": [],
   "source": []
  },
  {
   "cell_type": "code",
   "execution_count": 293,
   "metadata": {},
   "outputs": [],
   "source": [
    "def gen_sonnet(model, seed):\n",
    "    \"generate sonnet from model given seed\"\n",
    "\n",
    "    for temperature in [0.25, 0.75, 1.5]:\n",
    "        print('\\n ==temperature:', temperature)\n",
    "\n",
    "        generated = ''\n",
    "        sentence = seed\n",
    "        generated += sentence\n",
    "        print('==Generating with seed: \"' + sentence + '\"')\n",
    "        \n",
    "        print('\\n', seed)\n",
    "        for line in range(13):\n",
    "            \n",
    "            sentence = sentence\n",
    "            \n",
    "            for i in range(400): # why 400?\n",
    "                x_pred = np.zeros((1, maxlen, len(chars)))\n",
    "                for t, char in enumerate(sentence):\n",
    "                    x_pred[0, t, char_indices[char]] = 1.\n",
    "\n",
    "                preds = model.predict(x_pred, verbose=0)[0]\n",
    "                next_index = sample(preds, temperature)\n",
    "                next_char = indices_char[next_index]\n",
    "\n",
    "                sentence = sentence[1:] + next_char\n",
    "\n",
    "            sonnet = sentence\n",
    "            print('\\n', sonnet)\n",
    "            \n",
    "    \n"
   ]
  },
  {
   "cell_type": "code",
   "execution_count": null,
   "metadata": {},
   "outputs": [],
   "source": [
    "char_seed = \"shall i compare thee to a summers day \""
   ]
  },
  {
   "cell_type": "code",
   "execution_count": 294,
   "metadata": {},
   "outputs": [
    {
     "name": "stdout",
     "output_type": "stream",
     "text": [
      "\n",
      " ==temperature: 0.25\n",
      "==Generating with seed: \"shall i compare thee to a summers day \"\n",
      "\n",
      " shall i compare thee to a summers day \n",
      "\n",
      " a e a ree eo beeo aiefaaafhrtta meo oe\n",
      "\n",
      " aaio o wth etitnoner ao esesooayt etre\n",
      "\n",
      " unyr earsuo a eay to jmosreeruooooooo \n",
      "\n",
      " oeooedi ealhipa eyhtnoia e eye elo reo\n",
      "\n",
      " aoo o ooooo o oenieyieeayhtne elesomes\n",
      "\n",
      "   eifoio uooeayhrg gteoo einesati wtst\n",
      "\n",
      " ysoo yeoo esy eaysabesaehomaehmti eres\n",
      "\n",
      "  o ooeo ealllayeteelsyia iiaaa e eyhte\n",
      "\n",
      "  a o eeyenhrle reay temi tnoitn eli o \n",
      "\n",
      " eahsaeeoiayu oruoen vwnoh ui ety ineae\n",
      "\n",
      " esvsto oa o ooeaneneio  aaayriaye e oe\n",
      "\n",
      " piy cpiaaooooo o oefeey teteito eti tc\n",
      "\n",
      " eteeoooooooneaeaneehisoeaehiaehraid re\n",
      "\n",
      " ==temperature: 0.75\n",
      "==Generating with seed: \"shall i compare thee to a summers day \"\n",
      "\n",
      " shall i compare thee to a summers day \n",
      "\n",
      " ooo o oeoo o rrmgngse reo mua o oeoooo\n",
      "\n",
      " tia me reo ioo nellaiesrslbya eu rei a\n",
      "\n",
      "  sltttlgvttuifooooo o eo enhme aaoeooa\n",
      "\n",
      " o oeeuftilayaaeanhreyhi ifelaaayhcia m\n",
      "\n",
      " sdo ouoooooo n npa meo ey elaefiae ino\n",
      "\n",
      " lritneoywttoleooooo n ppyi aai orua re\n",
      "\n",
      "  esooooo teneanqeeomhteleito oo o ea c\n",
      "\n",
      " sa a o ea a etehe yi eteysepanameremo \n",
      "\n",
      " to etitnoooo owrf  eaoo ory io reelaoo\n",
      "\n",
      "  etnsoyt etsy etnsottt inereo aio  erh\n",
      "\n",
      "  osaeoeeoeniayefiayeoenaehrteidatornet\n",
      "\n",
      " oceaeenwdnhthlsci oia o ooeo oeoenmey \n",
      "\n",
      " oatnaatnt o enenciaaiaieyrery yihsyre \n",
      "\n",
      " ==temperature: 1.5\n",
      "==Generating with seed: \"shall i compare thee to a summers day \"\n",
      "\n",
      " shall i compare thee to a summers day \n",
      "\n",
      " reorio aio wth oooooooooof eelllmydgiu\n",
      "\n",
      " ee bosli o  eroysemislatnowwtnsoooooou\n",
      "\n",
      " ayi en ceaif aieaoyatn elayiyrsaye etn\n",
      "\n",
      " eao jwnl lktalatrsto  vtlesosse aaeenr\n",
      "\n",
      " lapeiaetenrayed reo iale etemeseesai o\n",
      "\n",
      " meilrtyeeeuioua esooafsdyreo rei aiede\n",
      "\n",
      "  oroonreneehraaaoia omusa aayeeoaahn e\n",
      "\n",
      " tsosoiso aiooooia ofoefoeaufhhvttgi  t\n",
      "\n",
      " io oeyito rslsteeraah aiotrteroeeua en\n",
      "\n",
      "  oooooenfelais mgsco ahgnsoabatnwnodo \n",
      "\n",
      "  o o ealalayita miye neaeaehms teexeso\n",
      "\n",
      " ymmey enmedrelaoh aai aioayrrrmbo oeae\n",
      "\n",
      " atnree tefo tt et ymooeo reipeeoealaio\n"
     ]
    }
   ],
   "source": [
    "gen_sonnet(model, seed=char_seed)"
   ]
  },
  {
   "cell_type": "code",
   "execution_count": null,
   "metadata": {},
   "outputs": [],
   "source": [
    "# get stuck on vowel strings"
   ]
  },
  {
   "cell_type": "code",
   "execution_count": null,
   "metadata": {},
   "outputs": [],
   "source": [
    "# run again more epochs "
   ]
  },
  {
   "cell_type": "code",
   "execution_count": null,
   "metadata": {},
   "outputs": [
    {
     "name": "stdout",
     "output_type": "stream",
     "text": [
      "Epoch 1/100\n"
     ]
    }
   ],
   "source": [
    "# fit model\n",
    "model_1000 = Sequential()\n",
    "model_1000.add(LSTM(125, input_shape=(x.shape[1], x.shape[2])))\n",
    "model_1000.add(Dense(len(chars), activation='softmax'))\n",
    "model_1000.compile(loss='categorical_crossentropy', optimizer='adam', metrics=['accuracy'])\n",
    "\n",
    "model_1000.fit(x, y, batch_size=32, epochs=100, verbose=2, callbacks=[print_callback])"
   ]
  },
  {
   "cell_type": "code",
   "execution_count": null,
   "metadata": {},
   "outputs": [],
   "source": [
    "gen_sonnet(model_1000, seed=char_seed)"
   ]
  },
  {
   "cell_type": "code",
   "execution_count": null,
   "metadata": {},
   "outputs": [],
   "source": []
  },
  {
   "cell_type": "code",
   "execution_count": 208,
   "metadata": {},
   "outputs": [
    {
     "name": "stdout",
     "output_type": "stream",
     "text": [
      "t they pay the vess chould not book ho l\n"
     ]
    }
   ],
   "source": [
    "# # choose random index \n",
    "# start_index = random.randint(0, len(text) - maxlen - 1)\n",
    "# # 40 character snippet to seed new sequence\n",
    "# sentence = text[start_index: start_index + maxlen]\n",
    "\n",
    "# # or \n",
    "# # sentence = char_seed\n",
    "\n",
    "# # run through 400 characters\n",
    "# for i in range(400):\n",
    "#     # predictions 40 characters to choose by 61 possible characters\n",
    "#     x_pred = np.zeros((1, maxlen, len(chars)))\n",
    "#     for t, char in enumerate(sentence):\n",
    "#         # fill in 1 at that character (row /40) in index of character (column)\n",
    "#         x_pred[0, t, char_indices[char]] = 1.\n",
    "\n",
    "#     # generate prob of next character (array of probabilites for each character)\n",
    "#     preds = model.predict(x_pred, verbose=0)[0]\n",
    "#     # pick character from distribution of pred (output=index)\n",
    "#     next_index = sample(preds, temperature)\n",
    "#     # use index to find character\n",
    "#     next_char = indices_char[next_index]\n",
    "\n",
    "#     # add character to sentence seeded, replace 1st character with last new character \n",
    "#     sentence = sentence[1:] + next_char\n",
    "\n",
    "# #     sys.stdout.write(next_char)\n",
    "# # sys.stdout.write(sentence)\n",
    "# # sys.stdout.flush()\n",
    "# print(sentence)"
   ]
  },
  {
   "cell_type": "code",
   "execution_count": null,
   "metadata": {},
   "outputs": [],
   "source": []
  }
 ],
 "metadata": {
  "kernelspec": {
   "display_name": "Python 3",
   "language": "python",
   "name": "python3"
  },
  "language_info": {
   "codemirror_mode": {
    "name": "ipython",
    "version": 3
   },
   "file_extension": ".py",
   "mimetype": "text/x-python",
   "name": "python",
   "nbconvert_exporter": "python",
   "pygments_lexer": "ipython3",
   "version": "3.7.6"
  }
 },
 "nbformat": 4,
 "nbformat_minor": 4
}
