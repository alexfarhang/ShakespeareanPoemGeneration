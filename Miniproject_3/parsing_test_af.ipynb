{
 "cells": [
  {
   "cell_type": "code",
   "execution_count": 256,
   "metadata": {},
   "outputs": [],
   "source": [
    "import os\n",
    "import numpy as np\n",
    "import re\n",
    "import matplotlib.pyplot as plt\n",
    "from HMM import unsupervised_HMM\n",
    "from HMM_helper import (\n",
    "    text_to_wordcloud,\n",
    "    states_to_wordclouds,\n",
    "    parse_observations,\n",
    "    sample_sentence,\n",
    "    visualize_sparsities,\n",
    "    animate_emission,\n",
    "    obs_map_reverser)\n",
    "def parse_observations_af(text):\n",
    "    '''This edit of parse_observations'''\n",
    "    # Convert text to dataset.\n",
    "    lines = [line.split() for line in text.split('\\n') if line.split()]\n",
    "    # test comment\n",
    "    num_array = np.arange(1,155).astype(str).tolist()\n",
    "    obs_counter = 0\n",
    "    obs = []\n",
    "    obs_map = {}\n",
    "\n",
    "    for line in lines:\n",
    "        obs_elem = []\n",
    "\n",
    "        for word in line:\n",
    "            word = re.sub(r'[^\\w]', '', word).lower()\n",
    "            cur_marker = 0\n",
    "            if (word not in obs_map) and (word not in num_array):\n",
    "                # Add unique words to the observations map.\n",
    "                obs_map[word] = obs_counter\n",
    "                obs_counter += 1\n",
    "                cur_marker = 1\n",
    "\n",
    "            # Add the encoded word.\n",
    "            if cur_marker:\n",
    "                obs_elem.append(obs_map[word])\n",
    "\n",
    "        # Add the encoded sequence.\n",
    "        if cur_marker:\n",
    "            obs.append(obs_elem)\n",
    "\n",
    "    return obs, obs_map\n",
    "\n",
    "# Data Preprocessing\n",
    "text = open(os.path.join(os.getcwd(), 'data/shakespeare_af.txt')).read()\n",
    "# obs, obs_map = parse_observations_af(text)\n"
   ]
  },
  {
   "cell_type": "code",
   "execution_count": 257,
   "metadata": {},
   "outputs": [],
   "source": [
    "obs, obs_map = parse_observations(text)"
   ]
  },
  {
   "cell_type": "code",
   "execution_count": 258,
   "metadata": {},
   "outputs": [],
   "source": [
    "lines = [line.split() for line in text.split('\\n') if line.split()]"
   ]
  },
  {
   "cell_type": "code",
   "execution_count": 259,
   "metadata": {},
   "outputs": [
    {
     "data": {
      "text/plain": [
       "0"
      ]
     },
     "execution_count": 259,
     "metadata": {},
     "output_type": "execute_result"
    }
   ],
   "source": [
    "0%13"
   ]
  },
  {
   "cell_type": "code",
   "execution_count": 284,
   "metadata": {},
   "outputs": [],
   "source": [
    "def sonnet_parser_af(text):\n",
    "    '''Separates sonnets into mapped observation words.  Note, use edited shakespear by Alex which deletes the sonnet with\n",
    "    too few lines, and the other with too many lines.  All should have 14 now'''\n",
    "    lines = [line.split() for line in text.split('\\n') if line.split()]\n",
    "    obs = []\n",
    "    obs_map = {}\n",
    "    obs_counter = 0\n",
    "    i_start =0\n",
    "    i_stop = 15\n",
    "    while i_stop < len(lines)+14:\n",
    "        obs_elem = []\n",
    "        for line in lines[i_start+1: i_stop]:\n",
    "            for word in line:\n",
    "                word = re.sub(r'[^\\w]', '', word).lower()\n",
    "                if word not in obs_map:\n",
    "                    # Add unique words to the observations map.\n",
    "                    obs_map[word] = obs_counter\n",
    "                    obs_counter += 1\n",
    "                obs_elem.append(obs_map[word])\n",
    "        obs.append(obs_elem)\n",
    "        i_start += 15\n",
    "        i_stop += 15\n",
    "    \n",
    "    return obs, obs_map"
   ]
  },
  {
   "cell_type": "code",
   "execution_count": 285,
   "metadata": {},
   "outputs": [],
   "source": [
    "obs, obs_map = sonnet_parser_af(text)"
   ]
  },
  {
   "cell_type": "code",
   "execution_count": 286,
   "metadata": {},
   "outputs": [
    {
     "data": {
      "text/plain": [
       "152"
      ]
     },
     "execution_count": 286,
     "metadata": {},
     "output_type": "execute_result"
    }
   ],
   "source": [
    "len(obs)"
   ]
  },
  {
   "cell_type": "code",
   "execution_count": 289,
   "metadata": {},
   "outputs": [],
   "source": [
    "sonnet = []\n",
    "reverser = obs_map_reverser(obs_map)\n",
    "for token in obs[-1]:\n",
    "    sonnet.append(' ' + reverser[token])\n",
    "\" \".join(sonnet)"
   ]
  },
  {
   "cell_type": "code",
   "execution_count": 288,
   "metadata": {},
   "outputs": [
    {
     "data": {
      "text/plain": [
       "' the  little  lovegod  lying  once  asleep  laid  by  his  side  his  heartinflaming  brand  whilst  many  nymphs  that  vowed  chaste  life  to  keep  came  tripping  by  but  in  her  maiden  hand  the  fairest  votary  took  up  that  fire  which  many  legions  of  true  hearts  had  warmed  and  so  the  general  of  hot  desire  was  sleeping  by  a  virgin  hand  disarmed  this  brand  she  quenched  in  a  cool  well  by  which  from  loves  fire  took  heat  perpetual  growing  a  bath  and  healthful  remedy  for  men  discased  but  i  my  mistress  thrall  came  there  for  cure  and  this  by  that  i  prove  loves  fire  heats  water  water  cools  not  love'"
      ]
     },
     "execution_count": 288,
     "metadata": {},
     "output_type": "execute_result"
    }
   ],
   "source": [
    "\" \".join(sonnet)"
   ]
  },
  {
   "cell_type": "code",
   "execution_count": null,
   "metadata": {},
   "outputs": [],
   "source": []
  },
  {
   "cell_type": "code",
   "execution_count": 35,
   "metadata": {},
   "outputs": [],
   "source": [
    "sonnets = [] # initialize list for containing all sonnet sequences\n",
    "current_sonnet = [] \n",
    "\n",
    "for line in obs:\n",
    "    if len(line)==1: # beginning of a sonnet (number)\n",
    "        sonnets.append(line) # new obs for each number (to match obs map)\n",
    "        current_sonnet = [] # initialize new empty list for new sonnet sequence\n",
    "        pass\n",
    "    \n",
    "    elif len(line)!=1:\n",
    "        current_sonnet.extend(line) # add new line to sonnet\n",
    "    sonnets.append(current_sonnet) # add previous sonnet to list of all sonnet sequences"
   ]
  },
  {
   "cell_type": "code",
   "execution_count": 36,
   "metadata": {},
   "outputs": [
    {
     "data": {
      "text/plain": [
       "2463"
      ]
     },
     "execution_count": 36,
     "metadata": {},
     "output_type": "execute_result"
    }
   ],
   "source": [
    "len(sonnets)"
   ]
  }
 ],
 "metadata": {
  "kernelspec": {
   "display_name": "Python 3",
   "language": "python",
   "name": "python3"
  },
  "language_info": {
   "codemirror_mode": {
    "name": "ipython",
    "version": 3
   },
   "file_extension": ".py",
   "mimetype": "text/x-python",
   "name": "python",
   "nbconvert_exporter": "python",
   "pygments_lexer": "ipython3",
   "version": "3.6.7"
  }
 },
 "nbformat": 4,
 "nbformat_minor": 4
}
